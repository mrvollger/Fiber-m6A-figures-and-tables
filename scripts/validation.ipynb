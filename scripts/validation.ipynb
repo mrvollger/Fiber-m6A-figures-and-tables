{
 "cells": [
  {
   "cell_type": "code",
   "execution_count": 39,
   "metadata": {},
   "outputs": [],
   "source": [
    "import numpy as np\n",
    "import matplotlib.pyplot as plt\n",
    "import sklearn.metrics as metrics\n",
    "import io\n",
    "import seaborn as sns\n",
    "import glob\n",
    "import polars as pl\n",
    "import pandas as pd\n",
    "custom_params = {\"axes.spines.right\": False, \"axes.spines.top\": False}\n",
    "sns.set_theme(style=\"ticks\", rc=custom_params)\n",
    "\n",
    "cols_with_lists = [\n",
    "        \"nuc_starts\",\n",
    "        \"nuc_lengths\",\n",
    "        \"ref_nuc_starts\",\n",
    "        \"ref_nuc_lengths\",\n",
    "        \"msp_starts\",\n",
    "        \"msp_lengths\",\n",
    "        \"ref_msp_starts\",\n",
    "        \"ref_msp_lengths\",\n",
    "        \"m6a\",\n",
    "        \"m6a_qual\",\n",
    "        \"ref_m6a\",\n",
    "        \"5mC\",\n",
    "        \"ref_5mC\",\n",
    "    ]\n",
    "    \n",
    "\n",
    "def read_fibertools_rs_all_file(f: str, pandas=False, n_rows=None, long=False):\n",
    "    \"\"\"Read a table made with fibertools-rs. Specifically `ft extract --all`.\n",
    "    Args:\n",
    "        f (str): File path to the table. Can be compressed.\n",
    "    Returns:\n",
    "        pl.DataFrame: Dataframe of the table.\n",
    "    \"\"\"\n",
    "    df = pl.read_csv(\n",
    "        f,\n",
    "        sep=\"\\t\",\n",
    "        n_rows=n_rows,\n",
    "        null_values=[\".\"],\n",
    "    )\n",
    "    # clean up comment char\n",
    "    df.columns = list(map(lambda x: x.strip(\"#\"), df.columns))\n",
    "    for col in cols_with_lists:\n",
    "        df.replace(col, df[col].str.strip(\",\").str.split(\",\").cast(pl.List(pl.Int64)))\n",
    "    if long:\n",
    "        df = make_long(df)\n",
    "    if pandas:\n",
    "        return df.to_pandas()\n",
    "    return df\n",
    "\n",
    "\n",
    "def make_long(df):\n",
    "    drop_cols = cols_with_lists\n",
    "    for col in drop_cols:\n",
    "        if col in df.columns and col not in [\"m6a\", \"m6a_qual\", \"ref_m6a\"]:\n",
    "            df.drop_in_place(col)\n",
    "    if \"fiber_sequence\" in df.columns:\n",
    "        df.drop_in_place(\"fiber_sequence\")\n",
    "    return df.lazy().explode([\"m6a\", \"m6a_qual\", \"ref_m6a\"]).collect()\n",
    "\n",
    "\n",
    "Red=\"#c1272d\"\n",
    "Indigo=\"#0000a7\"\n",
    "Yellow=\"#eecc16\"\n",
    "Teal=\"#008176\"\n",
    "Gray=\"#b3b3b3\"\n",
    "MODEL_COLORS = {\"PacBio\":Indigo, \"CNN\":Red, \"XGB\":Yellow, \"GMM\":Teal, \"IPD\":Gray}\n",
    "MODEL_COLORS.update({\"pb\":Indigo, \"cnn\":Red, \"xgb\":Yellow, \"gmm\":Teal, \"ipd\":Gray, \"semi\":\"orange\"})\n"
   ]
  },
  {
   "cell_type": "code",
   "execution_count": 40,
   "metadata": {},
   "outputs": [],
   "source": [
    "samples = [\"PS00075_1\", \"PS00109_1\"]\n",
    "sm=\"PS00109_1\"\n",
    "sm=\"PS00075_1\"\n"
   ]
  },
  {
   "cell_type": "code",
   "execution_count": 41,
   "metadata": {},
   "outputs": [
    {
     "name": "stdout",
     "output_type": "stream",
     "text": [
      "['results/PS00075_1/ipdSummary/PS00075_1.1-of-736.gff.gz']\n",
      "['results/PS00075_1/ipdSummary/PS00075_1.2-of-736.gff.gz']\n",
      "['results/PS00075_1/ipdSummary/PS00075_1.3-of-736.gff.gz']\n"
     ]
    },
    {
     "data": {
      "text/plain": [
       "(68442342, 3)"
      ]
     },
     "execution_count": 41,
     "metadata": {},
     "output_type": "execute_result"
    }
   ],
   "source": [
    "ipd_dfs = []\n",
    "for sm in [sm]:\n",
    "    for idx in [1,2,3]:\n",
    "        f=glob.glob(f\"results/{sm}/ipdSummary/{sm}.{idx}-of-*.gff.gz\")\n",
    "        print(f)\n",
    "        f=f[0]\n",
    "        t = pl.read_csv(f,sep=\",\").to_pandas()\n",
    "        ipd_dfs.append(t)\n",
    "\n",
    "ipd_df = pd.concat(ipd_dfs)\n",
    "ipd_df = ipd_df[ipd_df.base == \"A\"]\n",
    "ipd_df[\"fiber\"] = ipd_df[\"refName\"]\n",
    "ipd_df[\"pos\"] = ipd_df[\"tpl\"]-1\n",
    "ipd_df[\"ipd\"] = ipd_df.score\n",
    "ipd = ipd_df[[\"pos\", \"ipd\", \"fiber\"]]\n",
    "ipd.shape"
   ]
  },
  {
   "cell_type": "code",
   "execution_count": 42,
   "metadata": {},
   "outputs": [],
   "source": [
    "def load_ml_data(file, items_to_load = 10_000_000):\n",
    "    ml_data = np.load(file, allow_pickle=True)\n",
    "    fibers = ml_data[\"fibers\"][0:items_to_load]\n",
    "    positions = ml_data[\"positions\"][0:items_to_load]\n",
    "    labels = ml_data[\"labels\"][0:items_to_load]\n",
    "    ml_data = pd.DataFrame({\"fiber\": fibers, \"pos\": positions, \"truth\": labels})\n",
    "    ml_data = ml_data[ml_data.fiber.isin(ipd.fiber.unique())]\n",
    "    return ml_data"
   ]
  },
  {
   "cell_type": "code",
   "execution_count": 43,
   "metadata": {},
   "outputs": [
    {
     "data": {
      "text/html": [
       "<div>\n",
       "<style scoped>\n",
       "    .dataframe tbody tr th:only-of-type {\n",
       "        vertical-align: middle;\n",
       "    }\n",
       "\n",
       "    .dataframe tbody tr th {\n",
       "        vertical-align: top;\n",
       "    }\n",
       "\n",
       "    .dataframe thead th {\n",
       "        text-align: right;\n",
       "    }\n",
       "</style>\n",
       "<table border=\"1\" class=\"dataframe\">\n",
       "  <thead>\n",
       "    <tr style=\"text-align: right;\">\n",
       "      <th></th>\n",
       "      <th>fiber</th>\n",
       "      <th>pos</th>\n",
       "      <th>truth</th>\n",
       "    </tr>\n",
       "  </thead>\n",
       "  <tbody>\n",
       "    <tr>\n",
       "      <th>0</th>\n",
       "      <td>m54329U_210328_013807/19/ccs</td>\n",
       "      <td>4559</td>\n",
       "      <td>False</td>\n",
       "    </tr>\n",
       "    <tr>\n",
       "      <th>1</th>\n",
       "      <td>m54329U_210328_013807/19/ccs</td>\n",
       "      <td>2610</td>\n",
       "      <td>False</td>\n",
       "    </tr>\n",
       "    <tr>\n",
       "      <th>2</th>\n",
       "      <td>m54329U_210328_013807/19/ccs</td>\n",
       "      <td>788</td>\n",
       "      <td>False</td>\n",
       "    </tr>\n",
       "    <tr>\n",
       "      <th>3</th>\n",
       "      <td>m54329U_210328_013807/19/ccs</td>\n",
       "      <td>5759</td>\n",
       "      <td>False</td>\n",
       "    </tr>\n",
       "    <tr>\n",
       "      <th>4</th>\n",
       "      <td>m54329U_210328_013807/19/ccs</td>\n",
       "      <td>3481</td>\n",
       "      <td>False</td>\n",
       "    </tr>\n",
       "  </tbody>\n",
       "</table>\n",
       "</div>"
      ],
      "text/plain": [
       "                          fiber   pos  truth\n",
       "0  m54329U_210328_013807/19/ccs  4559  False\n",
       "1  m54329U_210328_013807/19/ccs  2610  False\n",
       "2  m54329U_210328_013807/19/ccs   788  False\n",
       "3  m54329U_210328_013807/19/ccs  5759  False\n",
       "4  m54329U_210328_013807/19/ccs  3481  False"
      ]
     },
     "execution_count": 43,
     "metadata": {},
     "output_type": "execute_result"
    }
   ],
   "source": [
    "ml_data_1 = load_ml_data(f\"results/{sm}/ml/{sm}.npz\")\n",
    "ml_data = ml_data_1[ml_data_1.fiber.isin(ipd.fiber.unique())]\n",
    "merge1 = ml_data.merge(ipd, how=\"left\", on = [\"pos\", \"fiber\"])\n",
    "ml_data.head()"
   ]
  },
  {
   "cell_type": "code",
   "execution_count": 44,
   "metadata": {},
   "outputs": [],
   "source": [
    "def read_fiber_data(file, tag=\"xgb\"):\n",
    "    if False:\n",
    "        df = pd.read_csv(file, sep=\"\\t\")\n",
    "        df = df[[\"m6a\", \"m6a_qual\", \"fiber\", \"fiber_length\", \"strand\"]]\n",
    "        # filter \n",
    "        df = df[df.fiber.isin(ipd.fiber.unique())]\n",
    "        df[\"m6a\"] = df[\"m6a\"].apply(lambda x: np.fromstring(x, sep=\",\", dtype=np.int32))\n",
    "        df[\"m6a_qual\"] = df[\"m6a_qual\"].apply(lambda x: np.fromstring(x, sep=\",\", dtype=np.int32))\n",
    "        df = df.explode([\"m6a\", \"m6a_qual\"])\n",
    "    else: \n",
    "        df = read_fibertools_rs_all_file(file, long=True, pandas=True)\n",
    "    # fix pos on the minus strand\n",
    "    \n",
    "    minus = df.strand == \"-\"\n",
    "    df.loc[minus, \"m6a\"] = df[minus].fiber_length - df[minus].m6a - 1\n",
    "    # switch to pos\n",
    "    df[\"pos\"] = df.m6a\n",
    "    df[tag] = 255.0 * df.m6a_qual/df.m6a_qual.max()\n",
    "    print(df.shape, tag)\n",
    "    return df[[tag, \"fiber\", \"pos\"]]"
   ]
  },
  {
   "cell_type": "code",
   "execution_count": 45,
   "metadata": {},
   "outputs": [
    {
     "name": "stdout",
     "output_type": "stream",
     "text": [
      "(106960864, 20) pb\n"
     ]
    }
   ],
   "source": [
    "if sm == \"PS00075_1\":\n",
    "    pb = read_fiber_data(\"from_pb/PS00075_1.fiberseq.strip_meth_tags.gamma_v4_cov1.bam.tbl.gz\", \"pb\")\n",
    "    merge_a = merge1.merge(pb, how=\"left\", on = [\"pos\", \"fiber\"])\n",
    "else: \n",
    "    merge_a = merge1\n",
    "    merge_a[\"pb\"] = 0"
   ]
  },
  {
   "cell_type": "code",
   "execution_count": 46,
   "metadata": {},
   "outputs": [
    {
     "name": "stdout",
     "output_type": "stream",
     "text": [
      "(47592361, 20) xgb\n"
     ]
    }
   ],
   "source": [
    "xgb = read_fiber_data(f\"data/{sm}.xgb.tbl.gz\", tag=\"xgb\")\n",
    "merge2 = merge_a.merge(xgb, how=\"left\", on = [\"pos\", \"fiber\"])"
   ]
  },
  {
   "cell_type": "code",
   "execution_count": 47,
   "metadata": {},
   "outputs": [
    {
     "name": "stdout",
     "output_type": "stream",
     "text": [
      "(16463368, 20) cnn\n"
     ]
    }
   ],
   "source": [
    "cnn = read_fiber_data(f\"data/{sm}.cnn.tbl.gz\", tag=\"cnn\")\n",
    "merge3 = merge2.merge(cnn, how=\"left\", on = [\"pos\", \"fiber\"])"
   ]
  },
  {
   "cell_type": "code",
   "execution_count": 48,
   "metadata": {},
   "outputs": [],
   "source": [
    "merge3.to_csv(f\"tmp_{sm}_all_but_semi.csv.gz\")\n",
    "merge3 = pd.read_csv(f\"tmp_{sm}_all_but_semi.csv.gz\")"
   ]
  },
  {
   "cell_type": "code",
   "execution_count": null,
   "metadata": {},
   "outputs": [],
   "source": [
    "semi = read_fiber_data(f\"data/{sm}.semi.tbl.gz\", tag=\"semi\")\n",
    "merge = merge3.merge(semi, how=\"left\", on = [\"pos\", \"fiber\"])\n",
    "print(\"done merging\")"
   ]
  },
  {
   "cell_type": "code",
   "execution_count": null,
   "metadata": {},
   "outputs": [],
   "source": [
    "print(\n",
    "    (merge.cnn>0).sum(),\n",
    "    (merge.xgb>0).sum(),\n",
    "    (merge.pb>0).sum(),\n",
    "    (merge.semi>0).sum(),\n",
    ")\n",
    "print(\n",
    "    merge.cnn.isna().sum(),\n",
    "    merge.xgb.isna().sum(),\n",
    "    merge.pb.isna().sum(),\n",
    "    merge.semi.isna().sum(),\n",
    ")\n",
    "merge.replace(np.nan, 0, inplace=True)"
   ]
  },
  {
   "cell_type": "code",
   "execution_count": null,
   "metadata": {},
   "outputs": [],
   "source": [
    "plt.rcParams['figure.figsize'] = [10, 5]\n",
    "\n",
    "fig, (ax1, ax2) = plt.subplots(1, 2)\n",
    "#ax1.axline([0,0], slope=1, c=\"black\")\n",
    "\n",
    "start = 0.5\n",
    "\n",
    "tp, fp,ttt, p, r, tt, tags=[],[],[],[],[],[],[]\n",
    "for tag in [\"ipd\", \"pb\",  \"xgb\", \"cnn\", \"semi\"]:\n",
    "    color=MODEL_COLORS[tag]\n",
    "    #if tag == \"semi\":\n",
    "    #    continue\n",
    "    if sm == \"PS00109_1\" and tag in [\"pb\", \"semi\"]:\n",
    "        continue\n",
    "    fpr, tpr, thresholds = metrics.roc_curve(merge.truth, merge[tag], pos_label=1)\n",
    "    label = f\"AUC-ROC {tag}: {metrics.auc(fpr, tpr):.03f}\"\n",
    "    print(label)\n",
    "    #plt.text(.6, start, label , label=label, color=color) \n",
    "    ax1.plot(fpr, tpr, c=color, label=label)\n",
    "    start -= 0.1\n",
    "    \n",
    "    precision, recall, t = metrics.precision_recall_curve(merge.truth, merge[tag], pos_label=1)\n",
    "    label = f\"AU-PR {tag}: {metrics.average_precision_score(merge.truth, merge[tag]):.03f}\"\n",
    "    \n",
    "    ax2.plot(recall, precision, c=color, label=label)\n",
    "    #ax2.scatter(recall, precision, c=color, label=label, s=5)\n",
    "    z = pd.DataFrame({\"p\": precision[:t.shape[0]], \"r\": recall[:t.shape[0]], \"t\":t })\n",
    "    #\n",
    "    p += (precision).tolist()\n",
    "    r += (recall).tolist()\n",
    "    tp += (tpr).tolist()\n",
    "    fp += (fpr).tolist()\n",
    "    ttt += (thresholds).tolist() \n",
    "    if t.shape[0] < precision.shape[0]:\n",
    "        tt += [t.min()] + t.tolist()\n",
    "    else:\n",
    "        tt += t.tolist()\n",
    "    tags += precision.shape[0]*[tag]\n",
    "\n",
    "ax1.legend()\n",
    "ax2.legend()\n",
    "ax1.set_xlabel(\"FPR\")\n",
    "ax1.set_ylabel(\"TPR\")\n",
    "ax2.set_xlabel(\"Recall\")\n",
    "ax2.set_ylabel(\"Precision\")\n",
    "ax1.set_xlim(0, 0.05)\n",
    "ax2.set_xlim(.1,1)\n",
    "ax2.set_ylim(0.5,1)\n",
    "\n",
    "plt.tight_layout()\n",
    "plt.savefig('tmp.pdf')\n",
    "plt.savefig(f\"Figures/{sm}-precision-recall.pdf\")"
   ]
  },
  {
   "cell_type": "code",
   "execution_count": null,
   "metadata": {},
   "outputs": [],
   "source": [
    "pr_df = pd.DataFrame({\"precision\": p, \"recall\": r, \"threshold\": tt, \"tag\": tags})\n",
    "tp_df = pd.DataFrame({\"FPR\": fp, \"TPR\": tp, \"threshold\": ttt})\n",
    "pr_df[\"difference\"]=(pr_df.precision - pr_df.recall).abs()\n",
    "\n",
    "plt.rcParams['figure.figsize'] = [10, 5]\n",
    "\n",
    "fig, (ax1,ax2,ax3) = plt.subplots(1,3)\n",
    "for tag, ax in zip([\"xgb\", \"cnn\", \"semi\"], [ax1,ax2,ax3]):\n",
    "    color=MODEL_COLORS[tag]\n",
    "    tdf = pr_df[pr_df.tag == tag]\n",
    "    #tdf.diff\n",
    "    ax.plot(tdf.threshold, tdf.precision, c=color, label=f\"precision\")\n",
    "    ax.plot(tdf.threshold, tdf.recall, c=color, label=f\"recall\", linestyle=\"dashed\")\n",
    "    where = tdf.difference.min() == tdf.difference\n",
    "    print(tdf[where])\n",
    "\n",
    "    ax.legend()\n",
    "    ax.set_xlabel(\"Prediction score\")\n",
    "    ax.set_ylabel(\"precision/recall\")\n",
    "    ax.set_xlim(0,255)\n",
    "    ax.set_ylim(0.5,1)\n",
    "    ax.set_title(tag)\n",
    "    \n",
    "plt.tight_layout()\n",
    "plt.savefig('tmp.pdf')\n",
    "plt.savefig(f\"Figures/{sm}-precision-recall-threshold.pdf\")"
   ]
  },
  {
   "cell_type": "code",
   "execution_count": null,
   "metadata": {},
   "outputs": [],
   "source": [
    "fig, (ax1, ax2, ax3) = plt.subplots(1, 3, sharey=True, figsize=(16,6))\n",
    "for ax,tag in zip([ax1, ax2, ax3], [\"cnn\", \"xgb\", \"semi\"]):        \n",
    "    g=sns.histplot(\n",
    "        data=merge[(merge[tag] > -1)],\n",
    "        x=tag, \n",
    "        bins=50,\n",
    "        hue=\"truth\",\n",
    "        label=\"true\",\n",
    "        ax=ax\n",
    "        #log_scale=True\n",
    "        )\n",
    "    g.set_yscale('log')\n",
    "    g.set_xlabel(\"Prediction score\")\n",
    "    g.set(title=tag)\n",
    "    legend = g.legend([\"True m6A\", \"non-m6A\"])\n",
    "    #g.set_xlim(0,20)\n",
    "plt.savefig('tmp.pdf')\n",
    "plt.savefig(f\"Figures/{sm}-quality-vs-m6A-status.pdf\")"
   ]
  },
  {
   "cell_type": "code",
   "execution_count": null,
   "metadata": {},
   "outputs": [],
   "source": []
  },
  {
   "cell_type": "code",
   "execution_count": 50,
   "metadata": {},
   "outputs": [
    {
     "name": "stdout",
     "output_type": "stream",
     "text": [
      "   precision_u8     cnn_score  precision\n",
      "0             0  0.000000e+00   0.000000\n",
      "1            10  1.401298e-45   0.040506\n",
      "2            11  2.802597e-45   0.044043\n",
      "3            12  4.203895e-45   0.045781\n",
      "4            13  9.809089e-45   0.049194\n",
      "     precision_u8  cnn_score  precision\n",
      "242           251   0.986922   0.982355\n",
      "243           252   0.993840   0.986285\n",
      "244           253   0.998138   0.990218\n",
      "245           254   0.999874   0.994398\n",
      "246           255   0.999996   1.000000\n",
      "   precision_u8     cnn_score  precision\n",
      "0             0  0.000000e+00   0.000000\n",
      "1           124  1.401298e-45   0.486496\n",
      "2           127  2.802597e-45   0.498655\n",
      "3           129  4.203895e-45   0.504253\n",
      "4           130  7.006492e-45   0.510557\n",
      "     precision_u8  cnn_score  precision\n",
      "125           251   0.964567   0.982354\n",
      "126           252   0.974613   0.986276\n",
      "127           253   0.984507   0.990197\n",
      "128           254   0.993397   0.994118\n",
      "129           255   0.998730   0.998231\n"
     ]
    },
    {
     "data": {
      "text/html": [
       "<div>\n",
       "<style scoped>\n",
       "    .dataframe tbody tr th:only-of-type {\n",
       "        vertical-align: middle;\n",
       "    }\n",
       "\n",
       "    .dataframe tbody tr th {\n",
       "        vertical-align: top;\n",
       "    }\n",
       "\n",
       "    .dataframe thead th {\n",
       "        text-align: right;\n",
       "    }\n",
       "</style>\n",
       "<table border=\"1\" class=\"dataframe\">\n",
       "  <thead>\n",
       "    <tr style=\"text-align: right;\">\n",
       "      <th></th>\n",
       "      <th>cnn_score</th>\n",
       "      <th>precision_u8</th>\n",
       "    </tr>\n",
       "  </thead>\n",
       "  <tbody>\n",
       "    <tr>\n",
       "      <th>0</th>\n",
       "      <td>0.000000e+00</td>\n",
       "      <td>0</td>\n",
       "    </tr>\n",
       "    <tr>\n",
       "      <th>1</th>\n",
       "      <td>1.401298e-45</td>\n",
       "      <td>124</td>\n",
       "    </tr>\n",
       "    <tr>\n",
       "      <th>2</th>\n",
       "      <td>2.802597e-45</td>\n",
       "      <td>127</td>\n",
       "    </tr>\n",
       "    <tr>\n",
       "      <th>3</th>\n",
       "      <td>4.203895e-45</td>\n",
       "      <td>129</td>\n",
       "    </tr>\n",
       "    <tr>\n",
       "      <th>4</th>\n",
       "      <td>7.006492e-45</td>\n",
       "      <td>130</td>\n",
       "    </tr>\n",
       "    <tr>\n",
       "      <th>...</th>\n",
       "      <td>...</td>\n",
       "      <td>...</td>\n",
       "    </tr>\n",
       "    <tr>\n",
       "      <th>125</th>\n",
       "      <td>9.645669e-01</td>\n",
       "      <td>251</td>\n",
       "    </tr>\n",
       "    <tr>\n",
       "      <th>126</th>\n",
       "      <td>9.746129e-01</td>\n",
       "      <td>252</td>\n",
       "    </tr>\n",
       "    <tr>\n",
       "      <th>127</th>\n",
       "      <td>9.845072e-01</td>\n",
       "      <td>253</td>\n",
       "    </tr>\n",
       "    <tr>\n",
       "      <th>128</th>\n",
       "      <td>9.933972e-01</td>\n",
       "      <td>254</td>\n",
       "    </tr>\n",
       "    <tr>\n",
       "      <th>129</th>\n",
       "      <td>9.987295e-01</td>\n",
       "      <td>255</td>\n",
       "    </tr>\n",
       "  </tbody>\n",
       "</table>\n",
       "<p>130 rows × 2 columns</p>\n",
       "</div>"
      ],
      "text/plain": [
       "        cnn_score  precision_u8\n",
       "0    0.000000e+00             0\n",
       "1    1.401298e-45           124\n",
       "2    2.802597e-45           127\n",
       "3    4.203895e-45           129\n",
       "4    7.006492e-45           130\n",
       "..            ...           ...\n",
       "125  9.645669e-01           251\n",
       "126  9.746129e-01           252\n",
       "127  9.845072e-01           253\n",
       "128  9.933972e-01           254\n",
       "129  9.987295e-01           255\n",
       "\n",
       "[130 rows x 2 columns]"
      ]
     },
     "execution_count": 50,
     "metadata": {},
     "output_type": "execute_result"
    }
   ],
   "source": [
    "def make_precision_score_table_from_npz(file):\n",
    "    score_precision_table = np.load(file, allow_pickle=True)\n",
    "    cnn_scores = score_precision_table['cnn_scores']\n",
    "    precisions = score_precision_table['precision']\n",
    "    df = pd.DataFrame({\"cnn_score\": cnn_scores, \"precision\": precisions}).drop_duplicates()\n",
    "    # make closest u8 to the precision float\n",
    "    df[\"precision_u8\"] = (df.precision * 255.0).round().astype(np.uint8)\n",
    "    # group by equal u8 precisions and get the minimum cnn score that achieves that precision\n",
    "    t=df.groupby(\"precision_u8\").aggregate({\"cnn_score\":\"min\", \"precision\":[\"min\",\"max\"]}).reset_index()\n",
    "    print(t.head())\n",
    "    print(t.tail())\n",
    "    return t[[\"cnn_score\", \"precision_u8\"]]\n",
    "\n",
    "file = \"./PS00075_3_precision_score_2.0.npz\"\n",
    "tbl = make_precision_score_table_from_npz(file)\n",
    "tbl.to_json(f\"{file}.json\", index=False, orient=\"split\")\n",
    "\n",
    "\n",
    "file = \"./PS00109_3_precision_score_2.2.npz\"\n",
    "tbl = make_precision_score_table_from_npz(file)\n",
    "tbl.to_json(f\"{file}.json\", index=False, orient=\"split\")\n",
    "tbl"
   ]
  },
  {
   "cell_type": "code",
   "execution_count": 14,
   "metadata": {},
   "outputs": [
    {
     "data": {
      "text/plain": [
       "0.984313725490196"
      ]
     },
     "execution_count": 14,
     "metadata": {},
     "output_type": "execute_result"
    }
   ],
   "source": [
    "251/255"
   ]
  },
  {
   "cell_type": "code",
   "execution_count": null,
   "metadata": {},
   "outputs": [],
   "source": []
  }
 ],
 "metadata": {
  "kernelspec": {
   "display_name": "Python 3.7.12 ('m6a_cpu')",
   "language": "python",
   "name": "python3"
  },
  "language_info": {
   "codemirror_mode": {
    "name": "ipython",
    "version": 3
   },
   "file_extension": ".py",
   "mimetype": "text/x-python",
   "name": "python",
   "nbconvert_exporter": "python",
   "pygments_lexer": "ipython3",
   "version": "3.7.12 | packaged by conda-forge | (default, Oct 26 2021, 06:08:53) \n[GCC 9.4.0]"
  },
  "orig_nbformat": 4,
  "vscode": {
   "interpreter": {
    "hash": "27e88a5cc5d1279d5762e9d9d1763f0de68abd5d6fe4ccf0655f8155e65df55d"
   }
  }
 },
 "nbformat": 4,
 "nbformat_minor": 2
}
