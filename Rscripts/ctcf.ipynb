{
 "cells": [
  {
   "cell_type": "code",
   "execution_count": 259,
   "metadata": {},
   "outputs": [],
   "source": [
    "import numpy as np\n",
    "import pandas as pd\n",
    "from collections import defaultdict\n",
    "import itertools\n",
    "import functools\n",
    "import seaborn as sns\n",
    "from tqdm.notebook import tqdm\n",
    "tqdm.pandas()\n",
    "\n",
    "COMPLEMENT = {\"A\": \"T\", \"C\": \"G\", \"G\": \"C\", \"T\": \"A\"}\n",
    "\n",
    "\n",
    "def revcomp(seq):\n",
    "    return \"\".join(COMPLEMENT[base] for base in reversed(seq))\n",
    "\n",
    "\n",
    "def rle(inarray):\n",
    "    \"\"\"run length encoding. Partial credit to R rle function.\n",
    "    Multi datatype arrays catered for including non Numpy\n",
    "    returns: tuple (runlengths, startpositions, values)\n",
    "    input: array\n",
    "    output: tuple of (run_lengths, start_positions, values)\"\"\"\n",
    "    ia = np.asarray(inarray)  # force numpy\n",
    "    n = len(ia)\n",
    "    if n == 0:\n",
    "        return (None, None, None)\n",
    "    else:\n",
    "        y = ia[1:] != ia[:-1]  # pairwise unequal (string safe)\n",
    "        i = np.append(np.where(y), n - 1)  # must include last element position\n",
    "        z = np.diff(np.append(-1, i))  # run lengths\n",
    "        p = np.cumsum(np.append(0, z))[:-1]  # positions\n",
    "        return (z, p, ia[i])\n",
    "\n",
    "\n",
    "# make all possible 3-mers\n",
    "# @functools.cache\n",
    "def make_kmer_dict(kmer_size, use_canonical=False):\n",
    "    kmer_dict = {}\n",
    "    for kmer_list in itertools.product([\"A\", \"C\", \"G\", \"T\"], repeat=kmer_size):\n",
    "        kmer = \"\".join(kmer_list)\n",
    "        rc_kmer = revcomp(kmer)\n",
    "        if rc_kmer < kmer and use_canonical:\n",
    "            kmer = rc_kmer\n",
    "        # skip no m6a possible kmers\n",
    "        if kmer.count(\"A\") + kmer.count(\"T\") == 0:\n",
    "            continue\n",
    "        kmer_dict[f\"{kmer}_count\"] = 0\n",
    "        kmer_dict[f\"{kmer}_m6a_count\"] = 0\n",
    "    return kmer_dict\n",
    "\n",
    "\n",
    "def kmer_features(seq, m6a_bool, kmer_size=3, use_canonical=False):\n",
    "    stop_index = len(seq) - kmer_size + 1\n",
    "    kmer_counts = make_kmer_dict(kmer_size, use_canonical=use_canonical)\n",
    "    for i in range(stop_index):\n",
    "        # get current index\n",
    "        kmer = seq[i : i + kmer_size]\n",
    "        m6a_count = m6a_bool[i : i + kmer_size].sum()\n",
    "        # skip no m6a possible kmers\n",
    "        if kmer.count(\"A\") + kmer.count(\"T\") == 0:\n",
    "            continue\n",
    "        # get canonical kmer\n",
    "        rc_kmer = revcomp(kmer)\n",
    "        if rc_kmer < kmer and use_canonical:\n",
    "            kmer = rc_kmer\n",
    "        # counts\n",
    "        kmer_counts[f\"{kmer}_count\"] += 1\n",
    "        kmer_counts[f\"{kmer}_m6a_count\"] += m6a_count\n",
    "    return kmer_counts"
   ]
  },
  {
   "cell_type": "code",
   "execution_count": 347,
   "metadata": {},
   "outputs": [],
   "source": [
    "nrows=500_000\n",
    "neg = pd.read_csv(\"../../ctcf-footprinting/mrv_misc/mrv_neg.tbl.gz\", sep=\"\\t\", nrows=nrows)"
   ]
  },
  {
   "cell_type": "code",
   "execution_count": 348,
   "metadata": {},
   "outputs": [],
   "source": [
    "pos = pd.read_csv(\"../../ctcf-footprinting/mrv_misc/mrv_pos.tbl.gz\", sep=\"\\t\", nrows=nrows)"
   ]
  },
  {
   "cell_type": "code",
   "execution_count": 349,
   "metadata": {},
   "outputs": [],
   "source": [
    "pos[\"Label\"] = 1\n",
    "neg[\"Label\"] = -1\n",
    "n=500_000\n",
    "data = pd.concat([pos.head(n), neg.head(n)])"
   ]
  },
  {
   "cell_type": "code",
   "execution_count": 400,
   "metadata": {},
   "outputs": [
    {
     "name": "stdout",
     "output_type": "stream",
     "text": [
      "(1000000, 14)\n"
     ]
    }
   ],
   "source": [
    "def features(g, motif_length=35, dist=100, flank_size=40):\n",
    "    if g.shape[0] == 0:\n",
    "        return {}\n",
    "    \n",
    "    motif_start = dist\n",
    "    motif_end = dist + motif_length\n",
    "\n",
    "    # skip if we are not in an msp region\n",
    "    msp_starts = g[g.centered_position_type == \"msp\"].centered_start + dist\n",
    "    msp_ends = g[g.centered_position_type == \"msp\"].centered_end + dist\n",
    "    spanning_msp = (\n",
    "        (msp_starts <= motif_start)\n",
    "        & (msp_ends >= motif_end)\n",
    "        # & (msp_ends - msp_starts > 85)\n",
    "        # & (msp_ends - msp_starts < 1000)\n",
    "    )\n",
    "    if not spanning_msp.any():\n",
    "        return {}\n",
    "    # print(g[g.centered_position_type == \"msp\"])\n",
    "\n",
    "    # get sequence and sequence features\n",
    "    seq = g.subset_sequence.unique()[0]\n",
    "    np_seq = np.frombuffer(bytes(seq, \"utf-8\"), dtype=\"S1\")\n",
    "    AT_bases = (np_seq == b\"A\") | (np_seq == b\"T\")\n",
    "    motif = seq[motif_start:motif_end]\n",
    "    AT_motif_bases = AT_bases[motif_start:motif_end]\n",
    "\n",
    "    # skip if has N, shouldn't happen often after msp filter\n",
    "    if \"N\" in seq:\n",
    "        return {}\n",
    "\n",
    "    # make m6a boolean\n",
    "    m6a_positions = np.array(g[g.centered_position_type == \"m6a\"].centered_start) + dist\n",
    "    m6a_bool = np.zeros(2 * dist + 1)\n",
    "    m6a_bool[m6a_positions] = 1\n",
    "    m6a_motif_bool = m6a_bool[motif_start:motif_end]\n",
    "\n",
    "    # k-mer features\n",
    "    feats = kmer_features(motif, m6a_motif_bool, kmer_size=3, use_canonical=False)\n",
    "\n",
    "    # RLE\n",
    "    # get run lengths using the AT base space\n",
    "    run_lengths, _run_starts, run_values = rle(m6a_motif_bool[AT_motif_bases])\n",
    "    if run_lengths is None or run_values is None:\n",
    "        feats[\"rle_max\"] = 0\n",
    "    else:\n",
    "        # need to subset to the run lengths that encode zeros (non-m6a):\n",
    "        non_m6a_run_lengths = run_lengths[run_values == 0]\n",
    "        if non_m6a_run_lengths.shape[0] == 0:\n",
    "            feats[\"rle_max\"] = 0\n",
    "        else:\n",
    "            feats[\"rle_max\"] = max(non_m6a_run_lengths)\n",
    "\n",
    "    # other motif wide features\n",
    "    feats[\"left_m6a\"] = m6a_bool[(motif_start - flank_size) : motif_start].sum()\n",
    "    feats[\"right_m6a\"] = m6a_bool[motif_end : (motif_end + flank_size)].sum()\n",
    "    feats[\"motif_m6a\"] = m6a_bool[motif_start:motif_end].sum()\n",
    "    feats[\"motif_frac_m6a\"] = feats[\"motif_m6a\"] / AT_motif_bases.sum()\n",
    "    feats[\"motif_AT_bp\"] = AT_motif_bases.sum()\n",
    "\n",
    "    # need label from beginning from mokapot\n",
    "    feats[\"Label\"] = g.Label.unique()[0]\n",
    "    feats[\"msp_start\"] = max(msp_starts[spanning_msp].values[0], -200)\n",
    "    feats[\"msp_end\"] = min(msp_ends[spanning_msp].values[0], 300)\n",
    "    return feats\n",
    "\n",
    "print(data.shape)\n",
    "rtn_list = (\n",
    "    data.groupby(\n",
    "        [\n",
    "            \"chrom\",\n",
    "            \"centering_position\",\n",
    "            \"strand\",\n",
    "            #\"subset_sequence\",\n",
    "            \"query_name\",\n",
    "            \"centered_query_start\",\n",
    "            \"centered_query_end\",\n",
    "        ]\n",
    "    )\n",
    "    .apply(features)\n",
    "    .tolist()\n",
    ")\n",
    "dirty_pin = pd.DataFrame(rtn_list)"
   ]
  },
  {
   "cell_type": "code",
   "execution_count": 406,
   "metadata": {},
   "outputs": [],
   "source": [
    "pin = dirty_pin.dropna().copy()\n",
    "pin.insert(0, \"SpecId\", pin.index)\n",
    "pin[\"Peptide\"] = pin.SpecId\n",
    "pin[\"Proteins\"] = pin.SpecId\n",
    "pin[\"scannr\"] = pin.SpecId"
   ]
  },
  {
   "cell_type": "code",
   "execution_count": 445,
   "metadata": {},
   "outputs": [],
   "source": [
    "import mokapot\n",
    "import logging\n",
    "\n",
    "logging.basicConfig(\n",
    "        level=logging.INFO,\n",
    "        format=\"%(levelname)s: %(message)s\",\n",
    ")\n",
    " \n",
    "psms = mokapot.read_pin(pin)\n",
    "model = mokapot.PercolatorModel(train_fdr=0.1, direction=\"rle_max\")\n",
    "mokapot_conf, models = mokapot.brew(psms, model, test_fdr=0.05)\n"
   ]
  },
  {
   "cell_type": "code",
   "execution_count": 447,
   "metadata": {},
   "outputs": [
    {
     "name": "stderr",
     "output_type": "stream",
     "text": [
      "/mmfs1/gscratch/stergachislab/mvollger/miniconda3/envs/fiberseq-smk/lib/python3.9/site-packages/triqler/qvality.py:234: RuntimeWarning: invalid value encountered in log\n",
      "  gnew = np.log(p / (1-p))\n"
     ]
    },
    {
     "name": "stdout",
     "output_type": "stream",
     "text": [
      "Warning: IRLS did not converge with maxIter = 50\n",
      "Warning: IRLS did not converge with maxIter = 50\n",
      "Warning: IRLS did not converge with maxIter = 50\n",
      "Warning: IRLS did not converge with maxIter = 50\n"
     ]
    },
    {
     "name": "stderr",
     "output_type": "stream",
     "text": [
      "/mmfs1/gscratch/stergachislab/mvollger/miniconda3/envs/fiberseq-smk/lib/python3.9/site-packages/triqler/qvality.py:234: RuntimeWarning: invalid value encountered in log\n",
      "  gnew = np.log(p / (1-p))\n"
     ]
    },
    {
     "name": "stdout",
     "output_type": "stream",
     "text": [
      "Warning: IRLS did not converge with maxIter = 50\n",
      "Warning: IRLS did not converge with maxIter = 50\n",
      "Warning: IRLS did not converge with maxIter = 50\n",
      "Warning: IRLS did not converge with maxIter = 50\n"
     ]
    },
    {
     "data": {
      "text/plain": [
       " 1.0    9323\n",
       "-1.0    4282\n",
       "Name: Label, dtype: int64"
      ]
     },
     "execution_count": 447,
     "metadata": {},
     "output_type": "execute_result"
    },
    {
     "data": {
      "image/png": "[encoded data removed]",
      "text/plain": [
       "<Figure size 800x400 with 1 Axes>"
      ]
     },
     "metadata": {},
     "output_type": "display_data"
    }
   ],
   "source": [
    "import matplotlib.pyplot as plt\n",
    "\n",
    "tide_conf = psms.assign_confidence(pin.rle_max, eval_fdr=0.2)\n",
    "fig, axs = plt.subplots(1, 1, figsize=(8, 4))\n",
    "mokapot_conf.plot_qvalues(label=\"mokapot\", color=\"red\", ax=axs, threshold=.25)\n",
    "tide_conf.plot_qvalues(label=\"naive\", color=\"blue\", ax=axs, threshold=.25)\n",
    "pin.Label.value_counts()"
   ]
  },
  {
   "cell_type": "code",
   "execution_count": 444,
   "metadata": {},
   "outputs": [
    {
     "data": {
      "text/plain": [
       "A mokapot.dataset.LinearPsmDataset with 13605 PSMs:\n",
       "\t- Protein confidence estimates enabled: False\n",
       "\t- Target PSMs: 9323\n",
       "\t- Decoy PSMs: 4282\n",
       "\t- Unique spectra: 13605\n",
       "\t- Unique peptides: 13605\n",
       "\t- Features: ('AAA_count', 'AAA_m6a_count', 'AAC_count', 'AAC_m6a_count', 'AAG_count', 'AAG_m6a_count', 'AAT_count', 'AAT_m6a_count', 'ACA_count', 'ACA_m6a_count', 'ACC_count', 'ACC_m6a_count', 'ACG_count', 'ACG_m6a_count', 'ACT_count', 'ACT_m6a_count', 'AGA_count', 'AGA_m6a_count', 'AGC_count', 'AGC_m6a_count', 'AGG_count', 'AGG_m6a_count', 'AGT_count', 'AGT_m6a_count', 'ATA_count', 'ATA_m6a_count', 'ATC_count', 'ATC_m6a_count', 'ATG_count', 'ATG_m6a_count', 'ATT_count', 'ATT_m6a_count', 'CAA_count', 'CAA_m6a_count', 'CAC_count', 'CAC_m6a_count', 'CAG_count', 'CAG_m6a_count', 'CAT_count', 'CAT_m6a_count', 'CCA_count', 'CCA_m6a_count', 'CCT_count', 'CCT_m6a_count', 'CGA_count', 'CGA_m6a_count', 'CGT_count', 'CGT_m6a_count', 'CTA_count', 'CTA_m6a_count', 'CTC_count', 'CTC_m6a_count', 'CTG_count', 'CTG_m6a_count', 'CTT_count', 'CTT_m6a_count', 'GAA_count', 'GAA_m6a_count', 'GAC_count', 'GAC_m6a_count', 'GAG_count', 'GAG_m6a_count', 'GAT_count', 'GAT_m6a_count', 'GCA_count', 'GCA_m6a_count', 'GCT_count', 'GCT_m6a_count', 'GGA_count', 'GGA_m6a_count', 'GGT_count', 'GGT_m6a_count', 'GTA_count', 'GTA_m6a_count', 'GTC_count', 'GTC_m6a_count', 'GTG_count', 'GTG_m6a_count', 'GTT_count', 'GTT_m6a_count', 'TAA_count', 'TAA_m6a_count', 'TAC_count', 'TAC_m6a_count', 'TAG_count', 'TAG_m6a_count', 'TAT_count', 'TAT_m6a_count', 'TCA_count', 'TCA_m6a_count', 'TCC_count', 'TCC_m6a_count', 'TCG_count', 'TCG_m6a_count', 'TCT_count', 'TCT_m6a_count', 'TGA_count', 'TGA_m6a_count', 'TGC_count', 'TGC_m6a_count', 'TGG_count', 'TGG_m6a_count', 'TGT_count', 'TGT_m6a_count', 'TTA_count', 'TTA_m6a_count', 'TTC_count', 'TTC_m6a_count', 'TTG_count', 'TTG_m6a_count', 'TTT_count', 'TTT_m6a_count', 'rle_max', 'left_m6a', 'right_m6a', 'motif_m6a', 'motif_frac_m6a', 'motif_AT_bp', 'msp_start', 'msp_end')"
      ]
     },
     "execution_count": 444,
     "metadata": {},
     "output_type": "execute_result"
    }
   ],
   "source": [
    "psms"
   ]
  },
  {
   "cell_type": "code",
   "execution_count": 370,
   "metadata": {},
   "outputs": [
    {
     "data": {
      "text/plain": [
       " 1.0    4940\n",
       "-1.0    4282\n",
       "Name: Label, dtype: int64"
      ]
     },
     "execution_count": 370,
     "metadata": {},
     "output_type": "execute_result"
    }
   ],
   "source": [
    "clean = pin[ ~((pin.rle_max<3) & (pin.Label == 1))]\n",
    "#clean.loc[ (clean.motif_frac_m6a==0) & (clean.motif_AT_bp > 0) & (clean.Label == -1), \"Label\"]=0\n",
    "#clean.loc[ (clean.rle_max<2) & (clean.Label == 1), \"Label\"]=0\n",
    "clean.Label.value_counts()"
   ]
  },
  {
   "cell_type": "code",
   "execution_count": 402,
   "metadata": {},
   "outputs": [
    {
     "ename": "ValueError",
     "evalue": "Invalid color L",
     "output_type": "error",
     "traceback": [
      "\u001b[0;31m---------------------------------------------------------------------------\u001b[0m",
      "\u001b[0;31mValueError\u001b[0m                                Traceback (most recent call last)",
      "Cell \u001b[0;32mIn[402], line 1\u001b[0m\n\u001b[0;32m----> 1\u001b[0m clean\u001b[39m.\u001b[39;49mplot\u001b[39m.\u001b[39;49mhist(column\u001b[39m=\u001b[39;49m[\u001b[39m\"\u001b[39;49m\u001b[39mrle_max\u001b[39;49m\u001b[39m\"\u001b[39;49m], color\u001b[39m=\u001b[39;49m\u001b[39m\"\u001b[39;49m\u001b[39mLabel\u001b[39;49m\u001b[39m\"\u001b[39;49m, figsize\u001b[39m=\u001b[39;49m(\u001b[39m12\u001b[39;49m, \u001b[39m8\u001b[39;49m))\n\u001b[1;32m      2\u001b[0m clean\u001b[39m.\u001b[39mplot\u001b[39m.\u001b[39mhist(column\u001b[39m=\u001b[39m[\u001b[39m\"\u001b[39m\u001b[39mmotif_frac_m6a\u001b[39m\u001b[39m\"\u001b[39m], by\u001b[39m=\u001b[39m\u001b[39m\"\u001b[39m\u001b[39mLabel\u001b[39m\u001b[39m\"\u001b[39m, figsize\u001b[39m=\u001b[39m(\u001b[39m12\u001b[39m, \u001b[39m8\u001b[39m))\n\u001b[1;32m      3\u001b[0m \u001b[39m#pin.plot.hist(column=[\"msp_start\"], by=\"Label\", figsize=(8, 5))\u001b[39;00m\n\u001b[1;32m      4\u001b[0m \u001b[39m#pin.plot.hist(column=[\"msp_end\"], by=\"Label\", figsize=(8, 5))\u001b[39;00m\n",
      "File \u001b[0;32m/mmfs1/gscratch/stergachislab/mvollger/miniconda3/envs/fiberseq-smk/lib/python3.9/site-packages/pandas/plotting/_core.py:1374\u001b[0m, in \u001b[0;36mPlotAccessor.hist\u001b[0;34m(self, by, bins, **kwargs)\u001b[0m\n\u001b[1;32m   1314\u001b[0m \u001b[39mdef\u001b[39;00m \u001b[39mhist\u001b[39m(\u001b[39mself\u001b[39m, by\u001b[39m=\u001b[39m\u001b[39mNone\u001b[39;00m, bins: \u001b[39mint\u001b[39m \u001b[39m=\u001b[39m \u001b[39m10\u001b[39m, \u001b[39m*\u001b[39m\u001b[39m*\u001b[39mkwargs) \u001b[39m-\u001b[39m\u001b[39m>\u001b[39m PlotAccessor:\n\u001b[1;32m   1315\u001b[0m     \u001b[39m\"\"\"\u001b[39;00m\n\u001b[1;32m   1316\u001b[0m \u001b[39m    Draw one histogram of the DataFrame's columns.\u001b[39;00m\n\u001b[1;32m   1317\u001b[0m \n\u001b[0;32m   (...)\u001b[0m\n\u001b[1;32m   1372\u001b[0m \u001b[39m        >>> ax = df.plot.hist(column=[\"age\"], by=\"gender\", figsize=(10, 8))\u001b[39;00m\n\u001b[1;32m   1373\u001b[0m \u001b[39m    \"\"\"\u001b[39;00m\n\u001b[0;32m-> 1374\u001b[0m     \u001b[39mreturn\u001b[39;00m \u001b[39mself\u001b[39;49m(kind\u001b[39m=\u001b[39;49m\u001b[39m\"\u001b[39;49m\u001b[39mhist\u001b[39;49m\u001b[39m\"\u001b[39;49m, by\u001b[39m=\u001b[39;49mby, bins\u001b[39m=\u001b[39;49mbins, \u001b[39m*\u001b[39;49m\u001b[39m*\u001b[39;49mkwargs)\n",
      "File \u001b[0;32m/mmfs1/gscratch/stergachislab/mvollger/miniconda3/envs/fiberseq-smk/lib/python3.9/site-packages/pandas/plotting/_core.py:1000\u001b[0m, in \u001b[0;36mPlotAccessor.__call__\u001b[0;34m(self, *args, **kwargs)\u001b[0m\n\u001b[1;32m    997\u001b[0m             label_name \u001b[39m=\u001b[39m label_kw \u001b[39mor\u001b[39;00m data\u001b[39m.\u001b[39mcolumns\n\u001b[1;32m    998\u001b[0m             data\u001b[39m.\u001b[39mcolumns \u001b[39m=\u001b[39m label_name\n\u001b[0;32m-> 1000\u001b[0m \u001b[39mreturn\u001b[39;00m plot_backend\u001b[39m.\u001b[39;49mplot(data, kind\u001b[39m=\u001b[39;49mkind, \u001b[39m*\u001b[39;49m\u001b[39m*\u001b[39;49mkwargs)\n",
      "File \u001b[0;32m/mmfs1/gscratch/stergachislab/mvollger/miniconda3/envs/fiberseq-smk/lib/python3.9/site-packages/pandas/plotting/_matplotlib/__init__.py:71\u001b[0m, in \u001b[0;36mplot\u001b[0;34m(data, kind, **kwargs)\u001b[0m\n\u001b[1;32m     69\u001b[0m         kwargs[\u001b[39m\"\u001b[39m\u001b[39max\u001b[39m\u001b[39m\"\u001b[39m] \u001b[39m=\u001b[39m \u001b[39mgetattr\u001b[39m(ax, \u001b[39m\"\u001b[39m\u001b[39mleft_ax\u001b[39m\u001b[39m\"\u001b[39m, ax)\n\u001b[1;32m     70\u001b[0m plot_obj \u001b[39m=\u001b[39m PLOT_CLASSES[kind](data, \u001b[39m*\u001b[39m\u001b[39m*\u001b[39mkwargs)\n\u001b[0;32m---> 71\u001b[0m plot_obj\u001b[39m.\u001b[39;49mgenerate()\n\u001b[1;32m     72\u001b[0m plot_obj\u001b[39m.\u001b[39mdraw()\n\u001b[1;32m     73\u001b[0m \u001b[39mreturn\u001b[39;00m plot_obj\u001b[39m.\u001b[39mresult\n",
      "File \u001b[0;32m/mmfs1/gscratch/stergachislab/mvollger/miniconda3/envs/fiberseq-smk/lib/python3.9/site-packages/pandas/plotting/_matplotlib/core.py:452\u001b[0m, in \u001b[0;36mMPLPlot.generate\u001b[0;34m(self)\u001b[0m\n\u001b[1;32m    450\u001b[0m \u001b[39mself\u001b[39m\u001b[39m.\u001b[39m_compute_plot_data()\n\u001b[1;32m    451\u001b[0m \u001b[39mself\u001b[39m\u001b[39m.\u001b[39m_setup_subplots()\n\u001b[0;32m--> 452\u001b[0m \u001b[39mself\u001b[39;49m\u001b[39m.\u001b[39;49m_make_plot()\n\u001b[1;32m    453\u001b[0m \u001b[39mself\u001b[39m\u001b[39m.\u001b[39m_add_table()\n\u001b[1;32m    454\u001b[0m \u001b[39mself\u001b[39m\u001b[39m.\u001b[39m_make_legend()\n",
      "File \u001b[0;32m/mmfs1/gscratch/stergachislab/mvollger/miniconda3/envs/fiberseq-smk/lib/python3.9/site-packages/pandas/plotting/_matplotlib/hist.py:113\u001b[0m, in \u001b[0;36mHistPlot._make_plot\u001b[0;34m(self)\u001b[0m\n\u001b[1;32m    112\u001b[0m \u001b[39mdef\u001b[39;00m \u001b[39m_make_plot\u001b[39m(\u001b[39mself\u001b[39m):\n\u001b[0;32m--> 113\u001b[0m     colors \u001b[39m=\u001b[39m \u001b[39mself\u001b[39;49m\u001b[39m.\u001b[39;49m_get_colors()\n\u001b[1;32m    114\u001b[0m     stacking_id \u001b[39m=\u001b[39m \u001b[39mself\u001b[39m\u001b[39m.\u001b[39m_get_stacking_id()\n\u001b[1;32m    116\u001b[0m     \u001b[39m# Re-create iterated data if `by` is assigned by users\u001b[39;00m\n",
      "File \u001b[0;32m/mmfs1/gscratch/stergachislab/mvollger/miniconda3/envs/fiberseq-smk/lib/python3.9/site-packages/pandas/plotting/_matplotlib/core.py:993\u001b[0m, in \u001b[0;36mMPLPlot._get_colors\u001b[0;34m(self, num_colors, color_kwds)\u001b[0m\n\u001b[1;32m    990\u001b[0m \u001b[39mif\u001b[39;00m num_colors \u001b[39mis\u001b[39;00m \u001b[39mNone\u001b[39;00m:\n\u001b[1;32m    991\u001b[0m     num_colors \u001b[39m=\u001b[39m \u001b[39mself\u001b[39m\u001b[39m.\u001b[39mnseries\n\u001b[0;32m--> 993\u001b[0m \u001b[39mreturn\u001b[39;00m get_standard_colors(\n\u001b[1;32m    994\u001b[0m     num_colors\u001b[39m=\u001b[39;49mnum_colors,\n\u001b[1;32m    995\u001b[0m     colormap\u001b[39m=\u001b[39;49m\u001b[39mself\u001b[39;49m\u001b[39m.\u001b[39;49mcolormap,\n\u001b[1;32m    996\u001b[0m     color\u001b[39m=\u001b[39;49m\u001b[39mself\u001b[39;49m\u001b[39m.\u001b[39;49mkwds\u001b[39m.\u001b[39;49mget(color_kwds),\n\u001b[1;32m    997\u001b[0m )\n",
      "File \u001b[0;32m/mmfs1/gscratch/stergachislab/mvollger/miniconda3/envs/fiberseq-smk/lib/python3.9/site-packages/pandas/plotting/_matplotlib/style.py:75\u001b[0m, in \u001b[0;36mget_standard_colors\u001b[0;34m(num_colors, colormap, color_type, color)\u001b[0m\n\u001b[1;32m     72\u001b[0m \u001b[39mif\u001b[39;00m \u001b[39misinstance\u001b[39m(color, \u001b[39mdict\u001b[39m):\n\u001b[1;32m     73\u001b[0m     \u001b[39mreturn\u001b[39;00m color\n\u001b[0;32m---> 75\u001b[0m colors \u001b[39m=\u001b[39m _derive_colors(\n\u001b[1;32m     76\u001b[0m     color\u001b[39m=\u001b[39;49mcolor,\n\u001b[1;32m     77\u001b[0m     colormap\u001b[39m=\u001b[39;49mcolormap,\n\u001b[1;32m     78\u001b[0m     color_type\u001b[39m=\u001b[39;49mcolor_type,\n\u001b[1;32m     79\u001b[0m     num_colors\u001b[39m=\u001b[39;49mnum_colors,\n\u001b[1;32m     80\u001b[0m )\n\u001b[1;32m     82\u001b[0m \u001b[39mreturn\u001b[39;00m \u001b[39mlist\u001b[39m(_cycle_colors(colors, num_colors\u001b[39m=\u001b[39mnum_colors))\n",
      "File \u001b[0;32m/mmfs1/gscratch/stergachislab/mvollger/miniconda3/envs/fiberseq-smk/lib/python3.9/site-packages/pandas/plotting/_matplotlib/style.py:132\u001b[0m, in \u001b[0;36m_derive_colors\u001b[0;34m(color, colormap, color_type, num_colors)\u001b[0m\n\u001b[1;32m    127\u001b[0m     \u001b[39mif\u001b[39;00m colormap \u001b[39mis\u001b[39;00m \u001b[39mnot\u001b[39;00m \u001b[39mNone\u001b[39;00m:\n\u001b[1;32m    128\u001b[0m         warnings\u001b[39m.\u001b[39mwarn(\n\u001b[1;32m    129\u001b[0m             \u001b[39m\"\u001b[39m\u001b[39m'\u001b[39m\u001b[39mcolor\u001b[39m\u001b[39m'\u001b[39m\u001b[39m and \u001b[39m\u001b[39m'\u001b[39m\u001b[39mcolormap\u001b[39m\u001b[39m'\u001b[39m\u001b[39m cannot be used simultaneously. Using \u001b[39m\u001b[39m'\u001b[39m\u001b[39mcolor\u001b[39m\u001b[39m'\u001b[39m\u001b[39m\"\u001b[39m,\n\u001b[1;32m    130\u001b[0m             stacklevel\u001b[39m=\u001b[39mfind_stack_level(),\n\u001b[1;32m    131\u001b[0m         )\n\u001b[0;32m--> 132\u001b[0m     \u001b[39mreturn\u001b[39;00m _get_colors_from_color(color)\n\u001b[1;32m    133\u001b[0m \u001b[39melse\u001b[39;00m:\n\u001b[1;32m    134\u001b[0m     \u001b[39mreturn\u001b[39;00m _get_colors_from_color_type(color_type, num_colors\u001b[39m=\u001b[39mnum_colors)\n",
      "File \u001b[0;32m/mmfs1/gscratch/stergachislab/mvollger/miniconda3/envs/fiberseq-smk/lib/python3.9/site-packages/pandas/plotting/_matplotlib/style.py:181\u001b[0m, in \u001b[0;36m_get_colors_from_color\u001b[0;34m(color)\u001b[0m\n\u001b[1;32m    178\u001b[0m     \u001b[39mreturn\u001b[39;00m [color]\n\u001b[1;32m    180\u001b[0m color \u001b[39m=\u001b[39m cast(Collection[Color], color)\n\u001b[0;32m--> 181\u001b[0m \u001b[39mreturn\u001b[39;00m \u001b[39mlist\u001b[39;49m(_gen_list_of_colors_from_iterable(color))\n",
      "File \u001b[0;32m/mmfs1/gscratch/stergachislab/mvollger/miniconda3/envs/fiberseq-smk/lib/python3.9/site-packages/pandas/plotting/_matplotlib/style.py:214\u001b[0m, in \u001b[0;36m_gen_list_of_colors_from_iterable\u001b[0;34m(color)\u001b[0m\n\u001b[1;32m    212\u001b[0m     \u001b[39myield\u001b[39;00m x\n\u001b[1;32m    213\u001b[0m \u001b[39melse\u001b[39;00m:\n\u001b[0;32m--> 214\u001b[0m     \u001b[39mraise\u001b[39;00m \u001b[39mValueError\u001b[39;00m(\u001b[39mf\u001b[39m\u001b[39m\"\u001b[39m\u001b[39mInvalid color \u001b[39m\u001b[39m{\u001b[39;00mx\u001b[39m}\u001b[39;00m\u001b[39m\"\u001b[39m)\n",
      "\u001b[0;31mValueError\u001b[0m: Invalid color L"
     ]
    },
    {
     "data": {
      "image/png": "[encoded data removed]",
      "text/plain": [
       "<Figure size 1200x800 with 1 Axes>"
      ]
     },
     "metadata": {},
     "output_type": "display_data"
    }
   ],
   "source": [
    "\n",
    "clean.plot.hist(column=[\"rle_max\"], color=\"Label\", figsize=(12, 8))\n",
    "clean.plot.hist(column=[\"motif_frac_m6a\"], by=\"Label\", figsize=(12, 8))\n",
    "#pin.plot.hist(column=[\"msp_start\"], by=\"Label\", figsize=(8, 5))\n",
    "#pin.plot.hist(column=[\"msp_end\"], by=\"Label\", figsize=(8, 5))"
   ]
  },
  {
   "cell_type": "code",
   "execution_count": 360,
   "metadata": {},
   "outputs": [],
   "source": [
    "def filter_for_msp(g, motif_length=35, dist=100, flank_size=40):\n",
    "    motif_start = dist\n",
    "    motif_end = dist + motif_length\n",
    "\n",
    "    # skip if we are not in an msp region\n",
    "    msp_starts = g[g.centered_position_type == \"msp\"].centered_start + 100\n",
    "    msp_ends = g[g.centered_position_type == \"msp\"].centered_end + 100\n",
    "    spanning_msp = (\n",
    "        (msp_starts < 100) & (msp_ends > 100 + 35)\n",
    "    )    \n",
    "    if spanning_msp.sum() > 0:\n",
    "        return np.ones(g.shape[0], dtype=bool)\n",
    "    else:\n",
    "        return np.zeros(g.shape[0], dtype=bool)\n",
    "has_msp = data.groupby([\"chrom\", \"centering_position\", \"strand\", \"query_name\"], sort=False).apply(filter_for_msp).to_list()"
   ]
  },
  {
   "cell_type": "code",
   "execution_count": 361,
   "metadata": {},
   "outputs": [
    {
     "data": {
      "text/plain": [
       "( 1    500000\n",
       " -1    500000\n",
       " Name: Label, dtype: int64,\n",
       "  1    387712\n",
       " -1    119879\n",
       " Name: Label, dtype: int64)"
      ]
     },
     "execution_count": 361,
     "metadata": {},
     "output_type": "execute_result"
    }
   ],
   "source": [
    "has_msp_np = np.hstack(has_msp)\n",
    "msp_data = data[has_msp_np]\n",
    "data.Label.value_counts(), msp_data.Label.value_counts()"
   ]
  },
  {
   "cell_type": "code",
   "execution_count": 362,
   "metadata": {},
   "outputs": [
    {
     "data": {
      "text/plain": [
       "<AxesSubplot: xlabel='centered_start', ylabel='Density'>"
      ]
     },
     "execution_count": 362,
     "metadata": {},
     "output_type": "execute_result"
    },
    {
     "data": {
      "image/png": "[encoded data removed]",
      "text/plain": [
       "<Figure size 640x480 with 1 Axes>"
      ]
     },
     "metadata": {},
     "output_type": "display_data"
    }
   ],
   "source": [
    "sns.kdeplot(data=msp_data[(msp_data.centered_position_type == \"m6a\")], x=\"centered_start\", hue=\"Label\")"
   ]
  },
  {
   "cell_type": "code",
   "execution_count": 276,
   "metadata": {},
   "outputs": [
    {
     "data": {
      "text/plain": [
       "(8144, 121)"
      ]
     },
     "execution_count": 276,
     "metadata": {},
     "output_type": "execute_result"
    }
   ],
   "source": [
    "pin.shape"
   ]
  },
  {
   "cell_type": "code",
   "execution_count": 388,
   "metadata": {},
   "outputs": [
    {
     "name": "stdout",
     "output_type": "stream",
     "text": [
      "    index  rle_max\n",
      "10   10.0       57\n",
      "11   11.0       46\n",
      "14   12.0       34\n",
      "8    13.0       26\n",
      "4    14.0       26\n",
      "15   15.0       19\n",
      "16   16.0        4\n",
      "17   17.0        9\n",
      "18   18.0        5\n",
      "19   19.0        1\n",
      "20   20.0        1\n",
      "    index  rle_max\n",
      "9    13.0      314\n",
      "10   14.0      238\n",
      "14   15.0      192\n",
      "12   16.0      150\n",
      "13   17.0      127\n",
      "15   18.0      100\n",
      "18   19.0       59\n",
      "19   20.0       22\n",
      "16   22.0       24\n",
      "17   23.0       12\n"
     ]
    }
   ],
   "source": [
    "for i in [-1, 1]:\n",
    "    z  = clean[clean.Label == i].rle_max.value_counts(sort=False).reset_index()\n",
    "    print(z.sort_values(\"index\").iloc[10:25])"
   ]
  },
  {
   "cell_type": "code",
   "execution_count": null,
   "metadata": {},
   "outputs": [],
   "source": []
  }
 ],
 "metadata": {
  "kernelspec": {
   "display_name": "fiberseq-smk",
   "language": "python",
   "name": "python3"
  },
  "language_info": {
   "codemirror_mode": {
    "name": "ipython",
    "version": 3
   },
   "file_extension": ".py",
   "mimetype": "text/x-python",
   "name": "python",
   "nbconvert_exporter": "python",
   "pygments_lexer": "ipython3",
   "version": "3.9.13"
  },
  "orig_nbformat": 4,
  "vscode": {
   "interpreter": {
    "hash": "67bc30e00024a98b8c0abd475ec73cc508808e3d446c102418c033938c9c1972"
   }
  }
 },
 "nbformat": 4,
 "nbformat_minor": 2
}
